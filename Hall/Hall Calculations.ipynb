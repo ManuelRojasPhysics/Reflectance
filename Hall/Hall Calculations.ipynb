{
 "cells": [
  {
   "cell_type": "markdown",
   "metadata": {},
   "source": [
    "Manuel Rojas, July 22, 2021"
   ]
  },
  {
   "cell_type": "markdown",
   "metadata": {},
   "source": [
    "# Hall calculations"
   ]
  },
  {
   "cell_type": "code",
   "execution_count": 10,
   "metadata": {},
   "outputs": [],
   "source": [
    "import numpy as np\n",
    "ratio = 1\n",
    "\n",
    "## included so notebook can run, not actual values"
   ]
  },
  {
   "cell_type": "markdown",
   "metadata": {},
   "source": [
    "This notebook aims to explain the calculations done by the hall system, which all stems from the slope of 8 Current vs Voltage plots. The following figures show a typical sample using the van der pauw method, and 2 possible switch orientations of the 8 which are cycled through. current will enter through two contacts, and voltage is measured across two other contacts. as current is ramped up, voltage is measured, the resulting line is then fitted, and the slope is the parameter of interest. We should have a zero y-intercept as zero current would result in zero voltage"
   ]
  },
  {
   "cell_type": "markdown",
   "metadata": {},
   "source": [
    "![sample](Figures/hallsample.jpg \"hall sample\")"
   ]
  },
  {
   "cell_type": "markdown",
   "metadata": {},
   "source": [
    "first take the ratio of the runs with no magnetic field (ie. switches 1-4), r1 to r2 and r3 to r4, selecting the larger of the two.\n",
    "\n",
    "$r_1 > r_2$, take $ratio_1 = \\cfrac{r_1}{r_2}$, other wise if $r_2 > r_1$, take $ratio_1 = \\cfrac{r_2}{r_1}$\n",
    "\n",
    "similarly for $r_3$ and $r_4$\n",
    "\n",
    "$r_3 > r_4$, take $ratio_2 = \\cfrac{r_3}{r_4}$, other wise if $r_4 > r_3$, take $ratio_2 = \\cfrac{r_4}{r_3}$\n",
    "\n",
    "now average the result: ratio $ = \\cfrac{|ratio_1|+|ratio_2|}{2}$\n",
    "\n"
   ]
  },
  {
   "cell_type": "markdown",
   "metadata": {},
   "source": [
    "the f factor is given by a transcendental equation:\n",
    "\n",
    "$\\cfrac{Q-1}{Q+1} = \\cfrac{ff}{\\ln{2}}\\cosh^{-1}\\big({\\frac{1}{2}\\exp{\\cfrac{\\ln{2}}{f}}}\\big)$\n",
    "\n",
    "here we compute it numerically as:\n"
   ]
  },
  {
   "cell_type": "code",
   "execution_count": 11,
   "metadata": {},
   "outputs": [],
   "source": [
    "cf = 0\n",
    "ff = 1\n",
    "\n",
    "while (abs(cf-ff) > 0.001):\n",
    "    cf = ff\n",
    "    ff = np.log(2)/(np.log(2*np.cosh(((ratio-1)/(ratio + 1)*np.log(2)/cf))))"
   ]
  },
  {
   "cell_type": "markdown",
   "metadata": {},
   "source": [
    "using the f factor, sheet resistance is found as:\n",
    "\n",
    "SheetRes$_1 = \\cfrac{r_1+r_2}{2} \\cdot \\cfrac{\\pi}{\\ln{2}}\\cdot$ ff\n",
    "\n",
    "SheetRes$_2 = \\cfrac{r_3+r_4}{2} \\cdot \\cfrac{\\pi}{\\ln{2}}\\cdot$ ff\n",
    "\n",
    "Bulk resistance:\n",
    "\n",
    "$\\rho_1 =$ SheetRes$_1 \\cdot$ thickness\n",
    "\n",
    "$\\rho_2 =$ SheetRes$_2 \\cdot$ thickness\n",
    "\n",
    "$\\rho = \\cfrac{\\rho_1+\\rho_2}{2}$\n",
    "\n",
    "SheetRes $= \\cfrac{SheetRes_1+SheetRes_2}{2} $\n"
   ]
  },
  {
   "cell_type": "markdown",
   "metadata": {},
   "source": [
    "Now the slopes from the data taken with the field powered on (slopes 5-8) are used to find transverse resistance since the hall effect allows for a voltage with diagonal current."
   ]
  },
  {
   "cell_type": "markdown",
   "metadata": {},
   "source": [
    "$R_{xy1} = \\cfrac{R_7-R_5}{2}$\n",
    "\n",
    "$R_{xy2} = \\cfrac{R_8-R_6}{2}$\n",
    "\n",
    "$R_{xy} = \\cfrac{R_{xy1}+R_{xy2}}{2}$\n",
    "\n",
    "Now take the ratio of the transverse resistances ($R_{xy}$), selecting the larger of the two.\n",
    "\n",
    "$r_{xy1} > r_{xy2}$, take $Hallratio = \\cfrac{r_{xy1}}{r_{xy2}}$, other wise if $r_{xy2} > r_{xy1}$, take $Hallratio = \\cfrac{r_{xy2}}{r_{xy1}}$\n",
    "\n",
    "$Rhs_1$ and $Rhs_2$ are the hall coefficient in sheet units (thickness may be unknown and can be added in manually later) the factor of $10^8$ deals with the unit change of both the field and the resistance from square cm to square meters, $R_{xy}$ is the Hall voltage divided by the supply current, thus leaving the Hall coefficent in the desired units\n",
    "\n",
    "$Rhs_1 = R_{xy1} \\cdot \\cfrac{10^8}{B}$\n",
    "\n",
    "$Rhs_2 = R_{xy2} \\cdot \\cfrac{10^8}{B}$\n",
    "\n",
    "$Rhs = \\cfrac{Rhs_1+Rhs_2}{2}$\n",
    "\n",
    "multiplying by thickness takes us out of sheet units and into 3 dimensional units\n",
    "\n",
    "$rh_1 = rhs_1 \\cdot$ thickness\n",
    "\n",
    "$rh_2 = rhs_2 \\cdot$ thickness\n",
    "\n",
    "The hall coefficient should be close to 1.0, with some possible variation in the hundredth digit.\n",
    "\n",
    "Hall Coefficient $= \\cfrac{rh_1 + rh_2}{2}$\n",
    "\n",
    "Sheet concentration is the amount of carriers per square unit in the sample\n",
    "\n",
    "Sheet Concentration $= \\cfrac{1}{Rhs\\cdot1.6022e^{-19}}$\n",
    "\n",
    "Bulk concentration is similar to sheet concentration, except now we look at the amount of carriers per cubic unit\n",
    "\n",
    "Bulk Concentration $= \\cfrac{sheetconc}{thickness}$\n",
    "\n",
    "Hall Mobility $=\\cfrac{|hallcoef|}{bulkconc}$\n"
   ]
  },
  {
   "cell_type": "code",
   "execution_count": null,
   "metadata": {},
   "outputs": [],
   "source": []
  }
 ],
 "metadata": {
  "kernelspec": {
   "display_name": "Python 3",
   "language": "python",
   "name": "python3"
  },
  "language_info": {
   "codemirror_mode": {
    "name": "ipython",
    "version": 3
   },
   "file_extension": ".py",
   "mimetype": "text/x-python",
   "name": "python",
   "nbconvert_exporter": "python",
   "pygments_lexer": "ipython3",
   "version": "3.8.6"
  }
 },
 "nbformat": 4,
 "nbformat_minor": 4
}
