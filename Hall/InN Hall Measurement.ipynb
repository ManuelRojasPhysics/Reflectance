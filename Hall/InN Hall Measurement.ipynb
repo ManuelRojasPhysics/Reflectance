{
 "cells": [
  {
   "cell_type": "markdown",
   "metadata": {},
   "source": [
    "# InN Hall Measurement"
   ]
  },
  {
   "cell_type": "markdown",
   "metadata": {},
   "source": [
    "Manuel Rojas, July 8th"
   ]
  },
  {
   "cell_type": "markdown",
   "metadata": {},
   "source": [
    "# Cleaving a Sample"
   ]
  },
  {
   "cell_type": "markdown",
   "metadata": {},
   "source": [
    "Cleaving the InN is done by placing the edges face down on two microscope slides, ensuring the least surface area of the wafer is in contact with the slides to avoid as much contamination as possible. Using a third slide, the sample is pressed down, and along the third slide, a diamond pen is used to scribe a line into the back of the sample. The figure below demonstrates this method, with the wafer in the center, a slide on each end, and one slide over top to hold the sample down as the back is scribed."
   ]
  },
  {
   "cell_type": "markdown",
   "metadata": {},
   "source": [
    "![cleaving](Figures/cleaving.png \"microscope slides and wafer\")"
   ]
  },
  {
   "cell_type": "markdown",
   "metadata": {},
   "source": [
    " Turn the sample around, remove one of the slides so the sample is laying on a slide and the countertop. Press down with the pen over the line which was scribed in until the sample is cleaved. The aim should be to make a sample which fits in the holder, with enough room to place four contacts in a small square. to facilitate the cleave, ensure that the line which is scribed in is perpendicular to the slide the sample is resting on."
   ]
  },
  {
   "cell_type": "markdown",
   "metadata": {},
   "source": [
    "# Attaching Contacts"
   ]
  },
  {
   "cell_type": "markdown",
   "metadata": {},
   "source": [
    "Follow the general procedure for cleaning Hall contacts, Indium contacts should be used for InN. Place the sample on the glass annealing oven. Place the clean Indium contacts on the sample in a small square the right size for the sample holder being used. Heat the sample up to 300 degrees Celsius and hold it there for about 2 minutes before turning off the element. The contacts might not wet the surface of the sample, but that’s fine, they should be on well enough as long as care is taken."
   ]
  },
  {
   "cell_type": "markdown",
   "metadata": {},
   "source": [
    "# S181"
   ]
  },
  {
   "cell_type": "markdown",
   "metadata": {},
   "source": [
    "### July 8th 2021"
   ]
  },
  {
   "cell_type": "markdown",
   "metadata": {},
   "source": [
    "The hall measurements on this indium nitride sample (S181) were done by soldering wires to pins on the sample holder, and using silver paste to attach the wires to the indium contacts on the sample, the paste was applied with the end of a metal spatula, applying a small amount to the contact, pressing the wire down with tweezers, then applying a small amount overtop, continuing to press down as the paste dries. The paste dries quickly so ensure once it’s out of the bottle, that it’s on the contact ASAP."
   ]
  },
  {
   "cell_type": "markdown",
   "metadata": {},
   "source": [
    "Currently the Hall system is missing a way to hold the sample holder in place between the magnets, so it has to be manually held in the field, this could be a source for some error, as the sample may not be consistently perpendicular to the magnetic field."
   ]
  },
  {
   "cell_type": "markdown",
   "metadata": {},
   "source": [
    "The thickness of this InN sample is also unknown, so quantities relying on the volume of the sample like bulk carrier concentration cannot be accurately determined until the thickness is known. A placeholder thickness of one micron was used for this sample."
   ]
  },
  {
   "cell_type": "markdown",
   "metadata": {},
   "source": [
    "The measurements were done with a max sample current of 1 mA (1 e-3 Amps)"
   ]
  },
  {
   "cell_type": "markdown",
   "metadata": {},
   "source": [
    "Investigating the S181 sample of indium nitride via hall measurement produced:\n",
    "-\tHall ratio = $1.016$ \n",
    "-\tHall mobility = $187.29$ cm$^2$/(V$\\cdot$s)\n",
    "-\t$R_1 = 15.428 \\Omega$\n",
    "-\t$R_2 = 15.429 \\Omega$\n",
    "-\t$R_{xy1} = -0.14563 \\Omega$\n",
    "-\t$R_{xy2} = -0.14333 \\Omega$\n",
    "-\tSheet Concentration = $2.1599\\cdot10^{15}$ cm$^{-2}$\n"
   ]
  },
  {
   "cell_type": "markdown",
   "metadata": {},
   "source": [
    "# S182"
   ]
  },
  {
   "cell_type": "markdown",
   "metadata": {},
   "source": [
    "Similar measurements were also performed on a similar sample with a different morphology from S181, and a drop in Mobility can be seen:"
   ]
  },
  {
   "cell_type": "markdown",
   "metadata": {},
   "source": [
    "- Hall ratio = $1.007$\n",
    "- Hall Mobility = $158.3$ cm$^2$/(V$\\cdot$s)\n",
    "- $R_1 =  \t\t13.079\t\\Omega\t$\n",
    "- $R_2 =  \t\t13.079\t\\Omega\t$\n",
    "- $R_{xy1} =  \t\t-0.10314\t\\Omega$\t\n",
    "- $R_{xy2} =  \t\t-0.10391\t\\Omega$\n",
    "- Sheet concentration = $3.0145 \\cdot 10^{15}$ cm $^{-2}$\n"
   ]
  },
  {
   "cell_type": "markdown",
   "metadata": {},
   "source": [
    "# S176"
   ]
  },
  {
   "cell_type": "markdown",
   "metadata": {},
   "source": [
    "### July 9th 2021"
   ]
  },
  {
   "cell_type": "markdown",
   "metadata": {},
   "source": [
    "An older sample, slightly more haze than the other two samples, also produced a lower mobility with a higher sheet concentration:"
   ]
  },
  {
   "cell_type": "markdown",
   "metadata": {},
   "source": [
    "- Hall Ratio = $1.0207$\n",
    "- Hall Mobility = $126.54$ cm$^2/$(V$\\cdot$s) \n",
    "- $R_1 =\t15.906\t\\Omega$\t\n",
    "- $R_2 = 15.905\t\\Omega$\n",
    "- $R_{xy1} = -0.099610\t\\Omega$\n",
    "- $R_{xy2} = -0.10167$\n",
    "- Sheet Concentration = $3.1009  \\cdot 10^{15}$ cm$^{-2}$"
   ]
  },
  {
   "cell_type": "markdown",
   "metadata": {},
   "source": [
    "# Mobility Vs Carrier Concentration"
   ]
  },
  {
   "cell_type": "markdown",
   "metadata": {},
   "source": [
    "As the thickness of these samples of InN is unknown, the bulk carrier concentration cannot be determined, but the mobility can. Generally, as carrier concentration rises, Mobility decreases. The following figure from A. Yamamoto et al. demonstrates this:"
   ]
  },
  {
   "cell_type": "markdown",
   "metadata": {},
   "source": [
    "![mobility vs conc](Figures/mobilityvsconcentration.png \"m vs c\")"
   ]
  },
  {
   "cell_type": "markdown",
   "metadata": {},
   "source": [
    "The article states that a carrier density of ~$5 \\cdot 10^{19}$ cm $^{-3}$ and mobility of ~ $300$ cm$^2$/V$\\cdot$s is reproducibly obtained on a sapphire substrate. This was done with Metalorganic vapour-phase epitaxy (MOVPE)."
   ]
  },
  {
   "cell_type": "markdown",
   "metadata": {},
   "source": [
    "By cleaving the sample and measuring the thickness via SEM, the thickness was determined to be 0.2 $\\mu$m, which would mean the carrier concentration is on the order of 10 $^{20}$, which looking at the figure, is in agreement (10$^2$ Hall mobility for 10$^{20}$ carrier concentration)"
   ]
  },
  {
   "cell_type": "markdown",
   "metadata": {},
   "source": [
    "The following figure from a review of InN growth from A.G Bhuiyan et al. shows carrier concentration against year and also shows the method used to grow the samples. The clear outlier is from 1984 where RF sputtering was used to produce a lower concentration value than ever. RF or Radio Frequency Sputtering is the technique involved in alternating the electrical potential of the current in the vacuum environment at radio frequencies to avoid a charge building up on certain types of sputtering target materials, which over time can result in arcing into the plasma that spews droplets creating quality control issues on the thin films. as time went on the prevailing technique became MOVPE and MBE (Molecular Beam Epitaxy)."
   ]
  },
  {
   "cell_type": "markdown",
   "metadata": {},
   "source": [
    "![concentration vs year](Figures/concentrationvsyear.png \"c vs t\")"
   ]
  },
  {
   "cell_type": "markdown",
   "metadata": {},
   "source": [
    "A similar figure shows the Mobility against the year the sample was grown from the same source, again the method of growth used is demostrated and the clear outlier in 1984 via RF sputtering shows higher mobility than any samples grown before or after it."
   ]
  },
  {
   "cell_type": "markdown",
   "metadata": {},
   "source": [
    "![Mobility vs year](Figures/Mobilityvsyear.png \"m vs t\")"
   ]
  },
  {
   "cell_type": "markdown",
   "metadata": {},
   "source": [
    "looking at the article which describes the findings of the positive results in 1984, they have plotted the mobility as a function of carrier concentration, demonstrating their results of up to $10^3$ order mobility. The highest point was performed at 50K temperature."
   ]
  },
  {
   "cell_type": "markdown",
   "metadata": {},
   "source": [
    "![1984](Figures/mobilityvsconc1984.png \"m vs n1984\")"
   ]
  },
  {
   "cell_type": "code",
   "execution_count": null,
   "metadata": {},
   "outputs": [],
   "source": []
  }
 ],
 "metadata": {
  "kernelspec": {
   "display_name": "Python 3",
   "language": "python",
   "name": "python3"
  },
  "language_info": {
   "codemirror_mode": {
    "name": "ipython",
    "version": 3
   },
   "file_extension": ".py",
   "mimetype": "text/x-python",
   "name": "python",
   "nbconvert_exporter": "python",
   "pygments_lexer": "ipython3",
   "version": "3.8.6"
  }
 },
 "nbformat": 4,
 "nbformat_minor": 4
}
