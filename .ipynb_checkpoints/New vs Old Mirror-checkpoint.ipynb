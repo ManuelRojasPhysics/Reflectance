{
 "cells": [
  {
   "cell_type": "markdown",
   "metadata": {},
   "source": [
    "4 June, 2021 Manuel Rojas"
   ]
  },
  {
   "cell_type": "markdown",
   "metadata": {},
   "source": [
    "## New vs Old Mirror"
   ]
  },
  {
   "cell_type": "markdown",
   "metadata": {},
   "source": [
    "## Old Mirror"
   ]
  },
  {
   "cell_type": "markdown",
   "metadata": {},
   "source": [
    "The reflective wafer used originally for reflectivity is visibly scratched and this brings into question the quality of the measurements made, looking at the data it can be seen that there is a larger peak at around 650 nm, this is a thin wafer GaN sample (S095)."
   ]
  },
  {
   "cell_type": "markdown",
   "metadata": {},
   "source": [
    "![Old GaN Spectrum](figures/spectra_old.jpg \"old spectrum\")"
   ]
  },
  {
   "cell_type": "markdown",
   "metadata": {},
   "source": [
    "While the general form of the data looks good (periodic, amplitude mostly uniform), the peaks near the center (650 nm) have larger amplitudes, this is not detrimental to the results, since we are interested in the periodicity of the data and not the amplitude, however ideally this irregularity would not occur."
   ]
  },
  {
   "cell_type": "markdown",
   "metadata": {},
   "source": [
    "Shown here is the reflection data of the old mirror:"
   ]
  },
  {
   "cell_type": "markdown",
   "metadata": {},
   "source": [
    "![old mirror reflection](figures/std_old_mirror.jpg \"old std\")"
   ]
  },
  {
   "cell_type": "markdown",
   "metadata": {},
   "source": [
    "## New Mirror"
   ]
  },
  {
   "cell_type": "markdown",
   "metadata": {},
   "source": [
    "The new mirror has some oscillation in the 800-900 range which is not desired, this irregularity creates wild peaks when it is divided out of the actual sample data. These peaks stretch the data and distort it, making fitting difficult, however the amplitudes are more uniform than with the old mirror"
   ]
  },
  {
   "cell_type": "markdown",
   "metadata": {},
   "source": [
    "![new mirror spectra](figures/spectra_new.jpg \"new std\")"
   ]
  },
  {
   "cell_type": "markdown",
   "metadata": {},
   "source": [
    "This behavior at the edges is too non uniform to be able to get a good fit out of the data to acquire sample thickness, especially when it comes to the Indium Nitride sample, since the wavelengths we wish to examine are in the 900+ range, which is where the irregularities occur."
   ]
  },
  {
   "cell_type": "markdown",
   "metadata": {},
   "source": [
    "If we focus the plot on the range which shows oscillation from the above graph (~450 - 850 nm) to try and still achieve a fit, we can see the data is still greatly skewed by the erratic behavior at the edges even though the amplitudes seem more uniform than when compared to the old mirror."
   ]
  },
  {
   "cell_type": "markdown",
   "metadata": {},
   "source": [
    "![new mirror spectra](figures/spectra_new_small.jpg \"new std smaller\")"
   ]
  },
  {
   "cell_type": "markdown",
   "metadata": {},
   "source": [
    "Here you can see the refrerence spectrum from the New mirror, note the oscillations around 850 nm causing the data to peak:"
   ]
  },
  {
   "cell_type": "markdown",
   "metadata": {},
   "source": [
    "![new mirror reflection](figures/std_new_mirror.jpg \"new mirror\")"
   ]
  },
  {
   "cell_type": "markdown",
   "metadata": {},
   "source": [
    "In summary, while the issue of amplitudes is addressed by the new mirror, the oscillations at the higher and lower wavelengths outweighs what is gained in the data, since the parameter of intrerest lies in the frequency of the data, not the amplitude. It would be best to find a new mirror, using the old mirror for the time being as it produces strong fits (R^2 ~ .95) and looking for a new mirror with good reflectivity in the higher wavelengths for the examination of Indium Nitride."
   ]
  }
 ],
 "metadata": {
  "kernelspec": {
   "display_name": "Python 3",
   "language": "python",
   "name": "python3"
  },
  "language_info": {
   "codemirror_mode": {
    "name": "ipython",
    "version": 3
   },
   "file_extension": ".py",
   "mimetype": "text/x-python",
   "name": "python",
   "nbconvert_exporter": "python",
   "pygments_lexer": "ipython3",
   "version": "3.7.6"
  }
 },
 "nbformat": 4,
 "nbformat_minor": 4
}
