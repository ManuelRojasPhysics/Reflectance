{
 "cells": [
  {
   "cell_type": "markdown",
   "metadata": {},
   "source": [
    "Manuel Rojas, July 22, 2021"
   ]
  },
  {
   "cell_type": "markdown",
   "metadata": {},
   "source": [
    "# S095 Summary"
   ]
  },
  {
   "cell_type": "markdown",
   "metadata": {},
   "source": [
    "S095 is a sample with a GaN layer, it was examined using the reflectivity set up described in the \"taking measurements\" notebook, and data was processed in the \"plotting reflectance data\" notebook. The data used was collected using an aluminum wafer that was recently grown in 4D labs. The sample is examined on the left, right and center. thus three distinct fits emerged."
   ]
  },
  {
   "cell_type": "markdown",
   "metadata": {},
   "source": [
    "## Left"
   ]
  },
  {
   "cell_type": "markdown",
   "metadata": {},
   "source": [
    "![s095L](S095/AL_wafer/fitL.jpg \"S095L\")"
   ]
  },
  {
   "cell_type": "markdown",
   "metadata": {},
   "source": [
    "Quoted on the plot are the optimal thickness parameter and the coefficient of determination (closer to 1 the stronger the fit) despite some abnormality around 620 nm, the fit looks fairly strong, and the thickness value is correct to $10^{-2}$ nm"
   ]
  },
  {
   "cell_type": "markdown",
   "metadata": {},
   "source": [
    "## Right"
   ]
  },
  {
   "cell_type": "markdown",
   "metadata": {},
   "source": [
    "![s095R](S095/AL_wafer/fitR.jpg \"S095R\")"
   ]
  },
  {
   "cell_type": "code",
   "execution_count": null,
   "metadata": {},
   "outputs": [],
   "source": []
  },
  {
   "cell_type": "markdown",
   "metadata": {},
   "source": [
    "## Center"
   ]
  },
  {
   "cell_type": "markdown",
   "metadata": {},
   "source": [
    "![s095C](S095/AL_wafer/fitC.jpg \"S095C\")"
   ]
  },
  {
   "cell_type": "code",
   "execution_count": null,
   "metadata": {},
   "outputs": [],
   "source": []
  }
 ],
 "metadata": {
  "kernelspec": {
   "display_name": "Python 3",
   "language": "python",
   "name": "python3"
  },
  "language_info": {
   "codemirror_mode": {
    "name": "ipython",
    "version": 3
   },
   "file_extension": ".py",
   "mimetype": "text/x-python",
   "name": "python",
   "nbconvert_exporter": "python",
   "pygments_lexer": "ipython3",
   "version": "3.8.6"
  }
 },
 "nbformat": 4,
 "nbformat_minor": 4
}
