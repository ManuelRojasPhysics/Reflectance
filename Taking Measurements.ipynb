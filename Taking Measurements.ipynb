{
 "cells": [
  {
   "cell_type": "markdown",
   "metadata": {},
   "source": [
    "6 May, 2021\n",
    "Manuel Rojas\n",
    "# Reflectivity Measurements"
   ]
  },
  {
   "cell_type": "markdown",
   "metadata": {},
   "source": [
    "In order to measure several properties of materials, an optical set up can be used. This set up starts with a lamp which is shone through a lens, then through a semi reflective surface (Microscope slide used). The light then partially reflects on to the sample holder below which will reflect the light back up through the slide, in another lens which reconverges the light in to a detector, which then outputs data to the computer. "
   ]
  },
  {
   "cell_type": "markdown",
   "metadata": {},
   "source": [
    "![experimental set up](figures/Presentation1.jpg \"set up\")"
   ]
  },
  {
   "cell_type": "markdown",
   "metadata": {},
   "source": [
    "# The general procedure to acquire data is as follows:"
   ]
  },
  {
   "cell_type": "markdown",
   "metadata": {},
   "source": [
    "1.\tTurn on the instrument (light, light fan, and detector)\n",
    "\n",
    "\n",
    "2.\tTurn on the computer and open the software (Specsoft Photon Control)\n",
    "\n",
    "\n",
    "3.\tMake sure you make a folder, file name etc. before proceeding to measurement. That option is there on the front panel of the software (there is a folder named ‘WATKINS LAB’ in c drive).\n",
    "\n",
    "\n",
    "4.\tMake sure you select option in excel format to save the data. This records the data in a text file. Set the software to flush data to the disk after every acquisition, and to stop after 5 (or more) acquisitions.\n",
    "\n",
    "\n",
    "5.\tAlso there is a step size option that will decide the resolution and decides the scan time\n",
    "\n",
    "\n",
    "6.\tTake a background measurement without any sample (make sure lamp and room lights are off), this will be subtracted from the data to zero the edges of the spectra\n",
    "\n",
    "\n",
    "7.\tTake a measurement on empty sapphire substrate (it is near the instrument, looks like a mirror) It should be calibrated such that this measurement gets close to saturation (~4000 magnitude)\n",
    "\n",
    "\n",
    "8.\tDon’t focus the light right on the fiber, this will saturate the signal, using the empty substrate, get the signal close to 4000 by moving the fiber up and down.\n",
    "\n",
    "\n",
    "9.\tNow you are ready to take the measurements on the sample. \n",
    "\n",
    "\n",
    "10.\tTake a measurement on the left side of the sample (left of the flat edge) one in the center, and one on the right. (can do more if required)\n",
    "\n",
    "\n",
    "11.\tName each file accordingly (“samplenameC/L/R”)\n",
    "\n",
    "\n",
    "12.\tMoving the file can be done through SFU Vault, or with a flash drive (computer is old so ensure it will accept the flash drive being used)\n"
   ]
  },
  {
   "cell_type": "markdown",
   "metadata": {},
   "source": [
    "# Processing the data:"
   ]
  },
  {
   "cell_type": "markdown",
   "metadata": {},
   "source": [
    "Once all the data is acquired, the five scans of each case (dark, mirror, L, C, R) should be averaged element wise, these new arrays need to be “cleaned”. The data taken with no sample in place needs to be subtracted from the sample data element wise, this plot should have the edges near zero. Then the data taken with the empty sapphire substrate should be divided from the thin film data element wise, need to ensure zero divisions are handled properly (return zero). Leaving our final result, which should have some oscillation or at least a peak. "
   ]
  },
  {
   "cell_type": "markdown",
   "metadata": {},
   "source": [
    "# Fitting to the data:"
   ]
  },
  {
   "cell_type": "markdown",
   "metadata": {},
   "source": [
    "Once only the thin film data is left, fit using the following equation: $$R=A+Bcos(\\frac{4π}{\\lambda}*nd),$$ where the wavelength lambda is the independent variable. $D$ is the thickness of the thin film, $A$ is a vertical shift, and $B$ is the amplitude. The python notebook does all of this, however you need to add the text files, and indicate their file path at the beginning. To fit the model to the data, it is good practice to first plot a manual fit over the data to find good initial parameter guesses. Also determine what range you wish to fit within, avoid fitting to any data that is too noisy, or different from the range of interest. To get a numerical idea of the quality of the fit, the $R^2$ is calculated, the closer to $1$ the stronger the fit. If the fit fails, reconsider the range of data used, or change the initial guesses of the parameters. The main parameter we are interested in is $d$, meaning the real focus of the fit should be on the frequency, so if the amplitudes are a little bit off, that is not uncommon for this model as it ignores absorption. If desired a damping factor could be added to model to account for this. "
   ]
  },
  {
   "cell_type": "markdown",
   "metadata": {},
   "source": [
    "The last two parts of this summary are also included in the notebook"
   ]
  }
 ],
 "metadata": {
  "kernelspec": {
   "display_name": "Python 3",
   "language": "python",
   "name": "python3"
  },
  "language_info": {
   "codemirror_mode": {
    "name": "ipython",
    "version": 3
   },
   "file_extension": ".py",
   "mimetype": "text/x-python",
   "name": "python",
   "nbconvert_exporter": "python",
   "pygments_lexer": "ipython3",
   "version": "3.7.6"
  }
 },
 "nbformat": 4,
 "nbformat_minor": 4
}
