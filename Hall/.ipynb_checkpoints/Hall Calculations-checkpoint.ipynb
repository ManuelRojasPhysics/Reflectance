{
 "cells": [
  {
   "cell_type": "markdown",
   "metadata": {},
   "source": [
    "Manuel Rojas, July 22, 2021"
   ]
  },
  {
   "cell_type": "markdown",
   "metadata": {},
   "source": [
    "# Hall calculations"
   ]
  },
  {
   "cell_type": "markdown",
   "metadata": {},
   "source": [
    "This notebook aims to explain the calculations done by the hall system, which all stems from the slope of 8 Current vs Voltage plots"
   ]
  },
  {
   "cell_type": "markdown",
   "metadata": {},
   "source": [
    "first take the ratio of the runs with no magnetic field (ie. switches 1-4), r1 to r2 and r3 to r4, selecting the larger of the two.\n",
    "\n",
    "$r_{1,3} > r_{2,4}$, take $ratio_{1,2} = \\frac{r_{1,3}}{r_{2,4}}$, other wise if $r_{2,4} > r_{1,3}$, take $ratio_{1,2} = \\frac{r_{2,4}}{r_{1,3}}$\n",
    "\n",
    "now average the result: ratio $ = \\frac{|ratio_1|+|ratio_2|}{2}$\n",
    "\n"
   ]
  },
  {
   "cell_type": "code",
   "execution_count": null,
   "metadata": {},
   "outputs": [],
   "source": []
  }
 ],
 "metadata": {
  "kernelspec": {
   "display_name": "Python 3",
   "language": "python",
   "name": "python3"
  },
  "language_info": {
   "codemirror_mode": {
    "name": "ipython",
    "version": 3
   },
   "file_extension": ".py",
   "mimetype": "text/x-python",
   "name": "python",
   "nbconvert_exporter": "python",
   "pygments_lexer": "ipython3",
   "version": "3.8.6"
  }
 },
 "nbformat": 4,
 "nbformat_minor": 4
}
